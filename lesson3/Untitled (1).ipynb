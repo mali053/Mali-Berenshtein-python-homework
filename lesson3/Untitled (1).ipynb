{
 "cells": [
  {
   "cell_type": "code",
   "execution_count": 2,
   "id": "6ed663a0-42e6-4530-8f29-164d84686e87",
   "metadata": {},
   "outputs": [
    {
     "name": "stdout",
     "output_type": "stream",
     "text": [
      "Collecting numpy\n",
      "  Downloading numpy-1.26.3-cp310-cp310-win_amd64.whl.metadata (61 kB)\n",
      "     ---------------------------------------- 0.0/61.2 kB ? eta -:--:--\n",
      "     -------------------- ------------------- 30.7/61.2 kB 1.3 MB/s eta 0:00:01\n",
      "     -------------------------------------- 61.2/61.2 kB 809.0 kB/s eta 0:00:00\n",
      "Downloading numpy-1.26.3-cp310-cp310-win_amd64.whl (15.8 MB)\n",
      "   ---------------------------------------- 0.0/15.8 MB ? eta -:--:--\n",
      "   ---------------------------------------- 0.0/15.8 MB 991.0 kB/s eta 0:00:16\n",
      "   ---------------------------------------- 0.2/15.8 MB 2.0 MB/s eta 0:00:08\n",
      "    --------------------------------------- 0.4/15.8 MB 2.8 MB/s eta 0:00:06\n",
      "   - -------------------------------------- 0.7/15.8 MB 3.6 MB/s eta 0:00:05\n",
      "   -- ------------------------------------- 1.1/15.8 MB 4.8 MB/s eta 0:00:04\n",
      "   --- ------------------------------------ 1.5/15.8 MB 5.5 MB/s eta 0:00:03\n",
      "   ---- ----------------------------------- 1.8/15.8 MB 5.7 MB/s eta 0:00:03\n",
      "   ----- ---------------------------------- 2.2/15.8 MB 6.1 MB/s eta 0:00:03\n",
      "   ------ --------------------------------- 2.6/15.8 MB 6.7 MB/s eta 0:00:02\n",
      "   ------- -------------------------------- 3.0/15.8 MB 6.7 MB/s eta 0:00:02\n",
      "   -------- ------------------------------- 3.3/15.8 MB 6.6 MB/s eta 0:00:02\n",
      "   --------- ------------------------------ 3.7/15.8 MB 6.8 MB/s eta 0:00:02\n",
      "   ---------- ----------------------------- 4.0/15.8 MB 7.2 MB/s eta 0:00:02\n",
      "   ----------- ---------------------------- 4.5/15.8 MB 7.1 MB/s eta 0:00:02\n",
      "   ------------ --------------------------- 4.9/15.8 MB 7.3 MB/s eta 0:00:02\n",
      "   ------------- -------------------------- 5.3/15.8 MB 7.4 MB/s eta 0:00:02\n",
      "   -------------- ------------------------- 5.7/15.8 MB 7.5 MB/s eta 0:00:02\n",
      "   --------------- ------------------------ 6.2/15.8 MB 7.6 MB/s eta 0:00:02\n",
      "   ---------------- ----------------------- 6.5/15.8 MB 7.5 MB/s eta 0:00:02\n",
      "   ----------------- ---------------------- 6.9/15.8 MB 7.6 MB/s eta 0:00:02\n",
      "   ------------------ --------------------- 7.3/15.8 MB 7.7 MB/s eta 0:00:02\n",
      "   ------------------- -------------------- 7.8/15.8 MB 7.7 MB/s eta 0:00:02\n",
      "   -------------------- ------------------- 8.2/15.8 MB 7.8 MB/s eta 0:00:01\n",
      "   --------------------- ------------------ 8.6/15.8 MB 7.9 MB/s eta 0:00:01\n",
      "   ---------------------- ----------------- 8.9/15.8 MB 7.9 MB/s eta 0:00:01\n",
      "   ----------------------- ---------------- 9.2/15.8 MB 8.0 MB/s eta 0:00:01\n",
      "   ------------------------ --------------- 9.7/15.8 MB 7.9 MB/s eta 0:00:01\n",
      "   ------------------------- -------------- 10.1/15.8 MB 8.0 MB/s eta 0:00:01\n",
      "   -------------------------- ------------- 10.5/15.8 MB 8.6 MB/s eta 0:00:01\n",
      "   --------------------------- ------------ 10.9/15.8 MB 8.7 MB/s eta 0:00:01\n",
      "   ---------------------------- ----------- 11.4/15.8 MB 8.7 MB/s eta 0:00:01\n",
      "   ----------------------------- ---------- 11.8/15.8 MB 8.7 MB/s eta 0:00:01\n",
      "   ------------------------------ --------- 12.2/15.8 MB 8.7 MB/s eta 0:00:01\n",
      "   ------------------------------- -------- 12.6/15.8 MB 8.7 MB/s eta 0:00:01\n",
      "   --------------------------------- ------ 13.1/15.8 MB 8.8 MB/s eta 0:00:01\n",
      "   ---------------------------------- ----- 13.5/15.8 MB 8.8 MB/s eta 0:00:01\n",
      "   ----------------------------------- ---- 13.9/15.8 MB 9.0 MB/s eta 0:00:01\n",
      "   ------------------------------------ --- 14.3/15.8 MB 8.8 MB/s eta 0:00:01\n",
      "   ------------------------------------- -- 14.7/15.8 MB 9.0 MB/s eta 0:00:01\n",
      "   -------------------------------------- - 15.1/15.8 MB 9.0 MB/s eta 0:00:01\n",
      "   ---------------------------------------  15.6/15.8 MB 8.8 MB/s eta 0:00:01\n",
      "   ---------------------------------------  15.8/15.8 MB 8.8 MB/s eta 0:00:01\n",
      "   ---------------------------------------- 15.8/15.8 MB 8.7 MB/s eta 0:00:00\n",
      "Installing collected packages: numpy\n",
      "Note: you may need to restart the kernel to use updated packages.\n"
     ]
    },
    {
     "name": "stderr",
     "output_type": "stream",
     "text": [
      "  WARNING: Failed to write executable - trying to use .deleteme logic\n",
      "ERROR: Could not install packages due to an OSError: [WinError 2] The system cannot find the file specified: 'C:\\\\Python310\\\\Scripts\\\\f2py.exe' -> 'C:\\\\Python310\\\\Scripts\\\\f2py.exe.deleteme'\n",
      "\n"
     ]
    }
   ],
   "source": [
    "pip install numpy"
   ]
  },
  {
   "cell_type": "code",
   "execution_count": 4,
   "id": "4006862e-84a0-45f4-96e2-4ead3b6a2ed8",
   "metadata": {},
   "outputs": [],
   "source": [
    "import numpy as np"
   ]
  },
  {
   "cell_type": "code",
   "execution_count": 5,
   "id": "abdb7ff6-1f04-45c1-a8ee-ac2a69086d82",
   "metadata": {},
   "outputs": [
    {
     "data": {
      "text/plain": [
       "array([13, 36, 33, 35, 44,  7, 11, 45, 45,  5])"
      ]
     },
     "execution_count": 5,
     "metadata": {},
     "output_type": "execute_result"
    }
   ],
   "source": [
    "random_int_array = np.random.randint(1, 50,10)\n",
    "random_int_array"
   ]
  },
  {
   "cell_type": "code",
   "execution_count": 6,
   "id": "4b1f8737-7ff1-4e11-94c7-cbce59cf4fb8",
   "metadata": {},
   "outputs": [
    {
     "data": {
      "text/plain": [
       "10"
      ]
     },
     "execution_count": 6,
     "metadata": {},
     "output_type": "execute_result"
    }
   ],
   "source": [
    "random_int_array.size"
   ]
  },
  {
   "cell_type": "code",
   "execution_count": 8,
   "id": "ee01bfd7-7a25-4c97-8613-48bb81331530",
   "metadata": {},
   "outputs": [
    {
     "data": {
      "text/plain": [
       "1"
      ]
     },
     "execution_count": 8,
     "metadata": {},
     "output_type": "execute_result"
    }
   ],
   "source": [
    "np.ndim(random_int_array)"
   ]
  },
  {
   "cell_type": "code",
   "execution_count": 9,
   "id": "d66d2b38-9263-4389-b4e1-3a0f670e7666",
   "metadata": {},
   "outputs": [
    {
     "data": {
      "text/plain": [
       "dtype('int32')"
      ]
     },
     "execution_count": 9,
     "metadata": {},
     "output_type": "execute_result"
    }
   ],
   "source": [
    "random_int_array.dtype"
   ]
  },
  {
   "cell_type": "code",
   "execution_count": 10,
   "id": "a074a835-e159-4d9a-887d-fb62c348d70c",
   "metadata": {},
   "outputs": [
    {
     "data": {
      "text/plain": [
       "array([[89,  7, 62, 48, 69],\n",
       "       [41, 58, 56, 65, 34]])"
      ]
     },
     "execution_count": 10,
     "metadata": {},
     "output_type": "execute_result"
    }
   ],
   "source": [
    "random_int_array_dim = np.random.randint(1, 100, size=(2, 5))\n",
    "random_int_array_dim"
   ]
  },
  {
   "cell_type": "code",
   "execution_count": 11,
   "id": "7933e67c-48a0-48a7-8738-49af7ae0f753",
   "metadata": {},
   "outputs": [
    {
     "data": {
      "text/plain": [
       "(2, 5)"
      ]
     },
     "execution_count": 11,
     "metadata": {},
     "output_type": "execute_result"
    }
   ],
   "source": [
    "random_int_array_dim.shape"
   ]
  }
 ],
 "metadata": {
  "kernelspec": {
   "display_name": "Python 3 (ipykernel)",
   "language": "python",
   "name": "python3"
  },
  "language_info": {
   "codemirror_mode": {
    "name": "ipython",
    "version": 3
   },
   "file_extension": ".py",
   "mimetype": "text/x-python",
   "name": "python",
   "nbconvert_exporter": "python",
   "pygments_lexer": "ipython3",
   "version": "3.10.8"
  }
 },
 "nbformat": 4,
 "nbformat_minor": 5
}
